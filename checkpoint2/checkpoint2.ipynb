{
 "cells": [
  {
   "cell_type": "markdown",
   "metadata": {},
   "source": [
    "<h1> Checkpoint:</h1>\n",
    "\n",
    "**Looking to see completetion and effort in completing the checkpoint. It's okay if it's not correct**\n",
    "\n",
    "Based off this dataset with school financial, enrollment, and achievement data, we are interested in what information is a useful indicator of student performance at the state level.\n",
    "\n",
    "This question is a bit too big for a checkpoint, however. Instead, we want you to look at smaller questions related to our overall goal. Here's the overview:\n",
    "\n",
    "1. Choose a specific test to focus on\n",
    ">Math/Reading for 4/8 grade\n",
    "* Pick or create features to use\n",
    ">Will all the features be useful in predicting test score? Are some more important than others? Should you standardize, bin, or scale the data?\n",
    "* Explore the data as it relates to that test\n",
    ">Create 2 well-labeled visualizations (graphs), each with a caption describing the graph and what it tells us about the data\n",
    "* Create training and testing data\n",
    ">Do you want to train on all the data? Only data from the last 10 years? Only Michigan data?\n",
    "* Train a ML model to predict outcome \n",
    ">Pick if you want to do a regression or classification task. For both cases, defined _exactly_ what you want to predict, and pick any model in sklearn to use (see sklearn <a href=\"https://scikit-learn.org/stable/modules/linear_model.html\">regressors</a> and <a href=\"https://scikit-learn.org/stable/auto_examples/classification/plot_classifier_comparison.html\">classifiers</a>).\n",
    "* Summarize your findings\n",
    ">Write a 1 paragraph summary of what you did and make a recommendation about if and how student performance can be predicted\n",
    "\n",
    "** Include comments throughout your code! Every cleanup and preprocessing task should be documented.\n",
    "\n",
    "\n",
    "Of course, if you're finding this assignment interesting (and we really hope you do!), you are welcome to do more than the requirements! For example, you may want to see if expenditure affects 4th graders more than 8th graders. Maybe you want to look into the extended version of this dataset and see how factors like sex and race are involved. You can include all your work in this notebook when you turn it in -- just always make sure you explain what you did and interpret your results. Good luck!"
   ]
  },
  {
   "cell_type": "markdown",
   "metadata": {},
   "source": [
    "<h2> Data Cleanup </h2>\n",
    "\n",
    "Import numpy, pandas, matplotlib, and seaborn\n",
    "\n",
    "(Feel free to import other libraries!)"
   ]
  },
  {
   "cell_type": "code",
   "execution_count": 48,
   "metadata": {},
   "outputs": [],
   "source": [
    "import pandas as pd\n",
    "import numpy as np\n",
    "import matplotlib.pyplot as plt"
   ]
  },
  {
   "cell_type": "markdown",
   "metadata": {},
   "source": [
    "Load in the \"states_edu.csv\" dataset and take a look at the head of the data"
   ]
  },
  {
   "cell_type": "code",
   "execution_count": 49,
   "metadata": {},
   "outputs": [],
   "source": [
    "df = pd.read_csv('../data/states_edu.csv')"
   ]
  },
  {
   "cell_type": "markdown",
   "metadata": {},
   "source": [
    "You should always familiarize yourself with what each column in the dataframe represents. \\ Read about the states_edu dataset here: https://www.kaggle.com/noriuk/us-education-datasets-unification-project"
   ]
  },
  {
   "cell_type": "markdown",
   "metadata": {},
   "source": [
    "Use this space to rename columns, deal with missing data, etc. _(optional)_"
   ]
  },
  {
   "cell_type": "code",
   "execution_count": 50,
   "metadata": {},
   "outputs": [
    {
     "data": {
      "text/html": [
       "<div>\n",
       "<style scoped>\n",
       "    .dataframe tbody tr th:only-of-type {\n",
       "        vertical-align: middle;\n",
       "    }\n",
       "\n",
       "    .dataframe tbody tr th {\n",
       "        vertical-align: top;\n",
       "    }\n",
       "\n",
       "    .dataframe thead th {\n",
       "        text-align: right;\n",
       "    }\n",
       "</style>\n",
       "<table border=\"1\" class=\"dataframe\">\n",
       "  <thead>\n",
       "    <tr style=\"text-align: right;\">\n",
       "      <th></th>\n",
       "      <th>STATE</th>\n",
       "      <th>YEAR</th>\n",
       "      <th>AVG_MATH_8_SCORE</th>\n",
       "      <th>TOT_REV_PER_STUDENT</th>\n",
       "      <th>FED_REV_PER_STUDENT</th>\n",
       "      <th>STATE_REV_PER_STUDENT</th>\n",
       "      <th>LOCAL_REV_PER_STUDENT</th>\n",
       "    </tr>\n",
       "  </thead>\n",
       "  <tbody>\n",
       "    <tr>\n",
       "      <th>0</th>\n",
       "      <td>ALABAMA</td>\n",
       "      <td>1992</td>\n",
       "      <td>252.0</td>\n",
       "      <td>3.661510</td>\n",
       "      <td>0.415750</td>\n",
       "      <td>2.267565</td>\n",
       "      <td>0.978194</td>\n",
       "    </tr>\n",
       "    <tr>\n",
       "      <th>2</th>\n",
       "      <td>ARIZONA</td>\n",
       "      <td>1992</td>\n",
       "      <td>265.0</td>\n",
       "      <td>4.837699</td>\n",
       "      <td>0.442314</td>\n",
       "      <td>2.033945</td>\n",
       "      <td>2.361441</td>\n",
       "    </tr>\n",
       "    <tr>\n",
       "      <th>3</th>\n",
       "      <td>ARKANSAS</td>\n",
       "      <td>1992</td>\n",
       "      <td>256.0</td>\n",
       "      <td>3.877685</td>\n",
       "      <td>0.404473</td>\n",
       "      <td>2.171703</td>\n",
       "      <td>1.301509</td>\n",
       "    </tr>\n",
       "    <tr>\n",
       "      <th>4</th>\n",
       "      <td>CALIFORNIA</td>\n",
       "      <td>1992</td>\n",
       "      <td>261.0</td>\n",
       "      <td>4.997299</td>\n",
       "      <td>0.394392</td>\n",
       "      <td>3.148812</td>\n",
       "      <td>1.454095</td>\n",
       "    </tr>\n",
       "    <tr>\n",
       "      <th>5</th>\n",
       "      <td>COLORADO</td>\n",
       "      <td>1992</td>\n",
       "      <td>272.0</td>\n",
       "      <td>5.199137</td>\n",
       "      <td>0.266477</td>\n",
       "      <td>2.135017</td>\n",
       "      <td>2.797643</td>\n",
       "    </tr>\n",
       "    <tr>\n",
       "      <th>...</th>\n",
       "      <td>...</td>\n",
       "      <td>...</td>\n",
       "      <td>...</td>\n",
       "      <td>...</td>\n",
       "      <td>...</td>\n",
       "      <td>...</td>\n",
       "      <td>...</td>\n",
       "    </tr>\n",
       "    <tr>\n",
       "      <th>1219</th>\n",
       "      <td>VIRGINIA</td>\n",
       "      <td>2015</td>\n",
       "      <td>288.0</td>\n",
       "      <td>12.354041</td>\n",
       "      <td>0.788573</td>\n",
       "      <td>4.861637</td>\n",
       "      <td>6.703831</td>\n",
       "    </tr>\n",
       "    <tr>\n",
       "      <th>1220</th>\n",
       "      <td>WASHINGTON</td>\n",
       "      <td>2015</td>\n",
       "      <td>287.0</td>\n",
       "      <td>12.611834</td>\n",
       "      <td>0.953444</td>\n",
       "      <td>7.629791</td>\n",
       "      <td>4.028599</td>\n",
       "    </tr>\n",
       "    <tr>\n",
       "      <th>1221</th>\n",
       "      <td>WEST_VIRGINIA</td>\n",
       "      <td>2015</td>\n",
       "      <td>271.0</td>\n",
       "      <td>12.536947</td>\n",
       "      <td>1.308187</td>\n",
       "      <td>7.134445</td>\n",
       "      <td>4.094315</td>\n",
       "    </tr>\n",
       "    <tr>\n",
       "      <th>1222</th>\n",
       "      <td>WISCONSIN</td>\n",
       "      <td>2015</td>\n",
       "      <td>289.0</td>\n",
       "      <td>13.410205</td>\n",
       "      <td>0.938448</td>\n",
       "      <td>6.763384</td>\n",
       "      <td>5.708373</td>\n",
       "    </tr>\n",
       "    <tr>\n",
       "      <th>1223</th>\n",
       "      <td>WYOMING</td>\n",
       "      <td>2015</td>\n",
       "      <td>287.0</td>\n",
       "      <td>20.723566</td>\n",
       "      <td>1.269994</td>\n",
       "      <td>11.792149</td>\n",
       "      <td>7.661423</td>\n",
       "    </tr>\n",
       "  </tbody>\n",
       "</table>\n",
       "<p>439 rows × 7 columns</p>\n",
       "</div>"
      ],
      "text/plain": [
       "              STATE  YEAR  AVG_MATH_8_SCORE  TOT_REV_PER_STUDENT  \\\n",
       "0           ALABAMA  1992             252.0             3.661510   \n",
       "2           ARIZONA  1992             265.0             4.837699   \n",
       "3          ARKANSAS  1992             256.0             3.877685   \n",
       "4        CALIFORNIA  1992             261.0             4.997299   \n",
       "5          COLORADO  1992             272.0             5.199137   \n",
       "...             ...   ...               ...                  ...   \n",
       "1219       VIRGINIA  2015             288.0            12.354041   \n",
       "1220     WASHINGTON  2015             287.0            12.611834   \n",
       "1221  WEST_VIRGINIA  2015             271.0            12.536947   \n",
       "1222      WISCONSIN  2015             289.0            13.410205   \n",
       "1223        WYOMING  2015             287.0            20.723566   \n",
       "\n",
       "      FED_REV_PER_STUDENT  STATE_REV_PER_STUDENT  LOCAL_REV_PER_STUDENT  \n",
       "0                0.415750               2.267565               0.978194  \n",
       "2                0.442314               2.033945               2.361441  \n",
       "3                0.404473               2.171703               1.301509  \n",
       "4                0.394392               3.148812               1.454095  \n",
       "5                0.266477               2.135017               2.797643  \n",
       "...                   ...                    ...                    ...  \n",
       "1219             0.788573               4.861637               6.703831  \n",
       "1220             0.953444               7.629791               4.028599  \n",
       "1221             1.308187               7.134445               4.094315  \n",
       "1222             0.938448               6.763384               5.708373  \n",
       "1223             1.269994              11.792149               7.661423  \n",
       "\n",
       "[439 rows x 7 columns]"
      ]
     },
     "execution_count": 50,
     "metadata": {},
     "output_type": "execute_result"
    }
   ],
   "source": [
    "df.rename({\n",
    "    'GRADES_PK_G':'ENROLL_PREK',\n",
    "    'GRADES_KG_G':'ENROLL_KINDER',\n",
    "    'GRADES_4_G':'ENROLL_4',\n",
    "    'GRADES_8_G':'ENROLL_8',\n",
    "    'GRADES_12_G':'ENROLL_12',\n",
    "    'GRADES_1_8_G':'ENROLL_PRIMARY',\n",
    "    'GRADES_9_12_G':'ENROLL_HS',\n",
    "    'GRADES_ALL_G':'ENROLL_ALL',\n",
    "    'ENROLL':'ENROLL_ALL_EST'\n",
    "    },\n",
    "    axis=1,inplace=True)\n",
    "\n",
    "\n",
    "\n",
    "#print(df.count())\n",
    "df = df[[\"STATE\",\"YEAR\",\"ENROLL_ALL\",\"ENROLL_8\",\"AVG_MATH_8_SCORE\",\"TOTAL_REVENUE\",\"STATE_REVENUE\",\"LOCAL_REVENUE\", \"FEDERAL_REVENUE\",\"TOTAL_EXPENDITURE\", \"INSTRUCTION_EXPENDITURE\",\"SUPPORT_SERVICES_EXPENDITURE\"]]\n",
    "df.dropna(subset=['AVG_MATH_8_SCORE'], inplace=True)\n",
    "#print(df.count())\n",
    "\n",
    "#print(df[df.TOTAL_REVENUE.isna()][['STATE_REVENUE','LOCAL_REVENUE','FEDERAL_REVENUE']].notna().any())\n",
    "\n",
    "\n",
    "df.dropna(subset=['TOTAL_REVENUE'], inplace=True)\n",
    "#print(df.count())\n",
    "\n",
    "df['TOT_REV_PER_STUDENT'] = df['TOTAL_REVENUE'] / df['ENROLL_ALL']\n",
    "df['FED_REV_PER_STUDENT'] = df['FEDERAL_REVENUE'] / df['ENROLL_ALL']\n",
    "df['STATE_REV_PER_STUDENT'] = df['STATE_REVENUE'] / df['ENROLL_ALL']\n",
    "df['LOCAL_REV_PER_STUDENT'] = df['LOCAL_REVENUE'] / df['ENROLL_ALL']\n",
    "\n",
    "dNew=df[['STATE','YEAR',\"AVG_MATH_8_SCORE\",\"TOT_REV_PER_STUDENT\",'FED_REV_PER_STUDENT','STATE_REV_PER_STUDENT','LOCAL_REV_PER_STUDENT']]\n",
    "dNew\n",
    "\n",
    "\n"
   ]
  },
  {
   "cell_type": "markdown",
   "metadata": {},
   "source": [
    "<h2>Exploratory Data Analysis (EDA) </h2>"
   ]
  },
  {
   "cell_type": "markdown",
   "metadata": {},
   "source": [
    "Chosen Predictor for Test: **<Math/Reading for 4/8 grade>**   (Ex. Math for 8th grade)\n",
    "\n",
    "**(hit `Enter` to edit)**\n",
    "\n",
    "Predictor Score in the questions refers to the predictor variable you chose here."
   ]
  },
  {
   "cell_type": "markdown",
   "metadata": {},
   "source": [
    "How many different years of data are in our dataset? Use a pandas function."
   ]
  },
  {
   "cell_type": "code",
   "execution_count": 152,
   "metadata": {},
   "outputs": [
    {
     "name": "stdout",
     "output_type": "stream",
     "text": [
      "[1992 2000 2003 2005 2007 2009 2011 2013 2015]\n"
     ]
    },
    {
     "data": {
      "text/plain": [
       "9"
      ]
     },
     "execution_count": 152,
     "metadata": {},
     "output_type": "execute_result"
    }
   ],
   "source": [
    "print(dNew[\"YEAR\"].unique())\n",
    "len(dNew[\"YEAR\"].unique())"
   ]
  },
  {
   "cell_type": "markdown",
   "metadata": {},
   "source": [
    "Let's compare Michigan to Ohio. Which state has the higher average predictor score across all years?"
   ]
  },
  {
   "cell_type": "code",
   "execution_count": 52,
   "metadata": {},
   "outputs": [
    {
     "name": "stdout",
     "output_type": "stream",
     "text": [
      "Michigan \n",
      " TOT_REV_PER_STUDENT      10.834054\n",
      "FED_REV_PER_STUDENT       0.938626\n",
      "STATE_REV_PER_STUDENT     5.822766\n",
      "LOCAL_REV_PER_STUDENT     4.072661\n",
      "Name: mean, dtype: float64\n",
      "Ohio \n",
      " TOT_REV_PER_STUDENT      11.091645\n",
      "FED_REV_PER_STUDENT       0.798348\n",
      "STATE_REV_PER_STUDENT     4.666063\n",
      "LOCAL_REV_PER_STUDENT     5.627234\n",
      "Name: mean, dtype: float64\n"
     ]
    }
   ],
   "source": [
    "dfMichigan=dNew.loc[dNew['STATE'] == \"MICHIGAN\"]\n",
    "dfOhio=dNew.loc[dNew['STATE'] == \"OHIO\"]\n",
    "dfMichigan=dfMichigan[[\"TOT_REV_PER_STUDENT\",'FED_REV_PER_STUDENT','STATE_REV_PER_STUDENT','LOCAL_REV_PER_STUDENT']]\n",
    "dfOhio=dfOhio[[\"TOT_REV_PER_STUDENT\",'FED_REV_PER_STUDENT','STATE_REV_PER_STUDENT','LOCAL_REV_PER_STUDENT']]\n",
    "\n",
    "print(\"Michigan\",\"\\n\",dfMichigan.describe().loc['mean'])\n",
    "print(\"Ohio\",\"\\n\",dfOhio.describe().loc['mean'])\n",
    "\n",
    "#Michigan has higher federal and state revenue per person, while Ohio has higher total and local revenue per person."
   ]
  },
  {
   "cell_type": "markdown",
   "metadata": {},
   "source": [
    "Find the average for your pedictor score across all states in 2019"
   ]
  },
  {
   "cell_type": "code",
   "execution_count": 67,
   "metadata": {},
   "outputs": [
    {
     "name": "stdout",
     "output_type": "stream",
     "text": [
      "Means:\n"
     ]
    },
    {
     "data": {
      "text/plain": [
       "YEAR                     2015.000000\n",
       "AVG_MATH_8_SCORE          281.725490\n",
       "TOT_REV_PER_STUDENT        13.414887\n",
       "FED_REV_PER_STUDENT         1.117751\n",
       "STATE_REV_PER_STUDENT       6.610767\n",
       "LOCAL_REV_PER_STUDENT       5.686368\n",
       "Name: mean, dtype: float64"
      ]
     },
     "execution_count": 67,
     "metadata": {},
     "output_type": "execute_result"
    }
   ],
   "source": [
    "#There is no data in my data set for 2019 because there is no revenue data for 2019. Hence, I will do 2015.\n",
    "print(\"Means:\")\n",
    "dNew[dNew[\"YEAR\"]==2015].describe().loc['mean']\n",
    "\n"
   ]
  },
  {
   "cell_type": "markdown",
   "metadata": {},
   "source": [
    "Find the maximum predictor score for every state. Hint: there's a function that allows you to do this easily"
   ]
  },
  {
   "cell_type": "code",
   "execution_count": 107,
   "metadata": {},
   "outputs": [
    {
     "name": "stdout",
     "output_type": "stream",
     "text": [
      "ALABAMA  MAXIMUM \n",
      " YEAR                     2015.000000\n",
      "AVG_MATH_8_SCORE          269.000000\n",
      "TOT_REV_PER_STUDENT         9.906684\n",
      "FED_REV_PER_STUDENT         1.446467\n",
      "STATE_REV_PER_STUDENT       5.556368\n",
      "LOCAL_REV_PER_STUDENT       3.340755\n",
      "Name: max, dtype: float64 \n",
      "\n",
      "ARIZONA  MAXIMUM \n",
      " YEAR                     2015.000000\n",
      "AVG_MATH_8_SCORE          283.000000\n",
      "TOT_REV_PER_STUDENT         8.166879\n",
      "FED_REV_PER_STUDENT         1.153191\n",
      "STATE_REV_PER_STUDENT       3.866017\n",
      "LOCAL_REV_PER_STUDENT       3.821900\n",
      "Name: max, dtype: float64 \n",
      "\n",
      "ARKANSAS  MAXIMUM \n",
      " YEAR                     2015.000000\n",
      "AVG_MATH_8_SCORE          279.000000\n",
      "TOT_REV_PER_STUDENT        10.786994\n",
      "FED_REV_PER_STUDENT         1.711865\n",
      "STATE_REV_PER_STUDENT       8.280539\n",
      "LOCAL_REV_PER_STUDENT       1.431968\n",
      "Name: max, dtype: float64 \n",
      "\n",
      "CALIFORNIA  MAXIMUM \n",
      " YEAR                     2015.000000\n",
      "AVG_MATH_8_SCORE          276.000000\n",
      "TOT_REV_PER_STUDENT        12.566460\n",
      "FED_REV_PER_STUDENT         1.588818\n",
      "STATE_REV_PER_STUDENT       6.802996\n",
      "LOCAL_REV_PER_STUDENT       4.549928\n",
      "Name: max, dtype: float64 \n",
      "\n",
      "COLORADO  MAXIMUM \n",
      " YEAR                     2015.000000\n",
      "AVG_MATH_8_SCORE          292.000000\n",
      "TOT_REV_PER_STUDENT        10.730918\n",
      "FED_REV_PER_STUDENT         1.134646\n",
      "STATE_REV_PER_STUDENT       4.843140\n",
      "LOCAL_REV_PER_STUDENT       5.092267\n",
      "Name: max, dtype: float64 \n",
      "\n",
      "CONNECTICUT  MAXIMUM \n",
      " YEAR                     2015.000000\n",
      "AVG_MATH_8_SCORE          289.000000\n",
      "TOT_REV_PER_STUDENT        20.634237\n",
      "FED_REV_PER_STUDENT         1.435972\n",
      "STATE_REV_PER_STUDENT       8.093101\n",
      "LOCAL_REV_PER_STUDENT      11.715619\n",
      "Name: max, dtype: float64 \n",
      "\n",
      "DELAWARE  MAXIMUM \n",
      " YEAR                     2015.000000\n",
      "AVG_MATH_8_SCORE          284.000000\n",
      "TOT_REV_PER_STUDENT        14.958249\n",
      "FED_REV_PER_STUDENT         1.490407\n",
      "STATE_REV_PER_STUDENT       8.745386\n",
      "LOCAL_REV_PER_STUDENT       5.466922\n",
      "Name: max, dtype: float64 \n",
      "\n",
      "DISTRICT_OF_COLUMBIA  MAXIMUM \n",
      " YEAR                     2015.000000\n",
      "AVG_MATH_8_SCORE          265.000000\n",
      "TOT_REV_PER_STUDENT        17.359676\n",
      "FED_REV_PER_STUDENT         2.681538\n",
      "STATE_REV_PER_STUDENT       0.000000\n",
      "LOCAL_REV_PER_STUDENT      15.255726\n",
      "Name: max, dtype: float64 \n",
      "\n",
      "FLORIDA  MAXIMUM \n",
      " YEAR                     2015.000000\n",
      "AVG_MATH_8_SCORE          281.000000\n",
      "TOT_REV_PER_STUDENT        10.836299\n",
      "FED_REV_PER_STUDENT         1.765405\n",
      "STATE_REV_PER_STUDENT       4.341864\n",
      "LOCAL_REV_PER_STUDENT       5.599630\n",
      "Name: max, dtype: float64 \n",
      "\n",
      "GEORGIA  MAXIMUM \n",
      " YEAR                     2015.000000\n",
      "AVG_MATH_8_SCORE          279.000000\n",
      "TOT_REV_PER_STUDENT        10.777119\n",
      "FED_REV_PER_STUDENT         1.345483\n",
      "STATE_REV_PER_STUDENT       4.793422\n",
      "LOCAL_REV_PER_STUDENT       5.150376\n",
      "Name: max, dtype: float64 \n",
      "\n",
      "HAWAII  MAXIMUM \n",
      " YEAR                     2015.000000\n",
      "AVG_MATH_8_SCORE          281.000000\n",
      "TOT_REV_PER_STUDENT        16.596124\n",
      "FED_REV_PER_STUDENT         2.180054\n",
      "STATE_REV_PER_STUDENT      14.903245\n",
      "LOCAL_REV_PER_STUDENT       0.509939\n",
      "Name: max, dtype: float64 \n",
      "\n",
      "IDAHO  MAXIMUM \n",
      " YEAR                     2015.000000\n",
      "AVG_MATH_8_SCORE          287.000000\n",
      "TOT_REV_PER_STUDENT         7.898230\n",
      "FED_REV_PER_STUDENT         1.045481\n",
      "STATE_REV_PER_STUDENT       5.282516\n",
      "LOCAL_REV_PER_STUDENT       2.215595\n",
      "Name: max, dtype: float64 \n",
      "\n",
      "INDIANA  MAXIMUM \n",
      " YEAR                     2015.000000\n",
      "AVG_MATH_8_SCORE          288.000000\n",
      "TOT_REV_PER_STUDENT        12.419835\n",
      "FED_REV_PER_STUDENT         1.341255\n",
      "STATE_REV_PER_STUDENT       7.333451\n",
      "LOCAL_REV_PER_STUDENT       5.532554\n",
      "Name: max, dtype: float64 \n",
      "\n",
      "IOWA  MAXIMUM \n",
      " YEAR                     2015.000000\n",
      "AVG_MATH_8_SCORE          286.000000\n",
      "TOT_REV_PER_STUDENT        13.216978\n",
      "FED_REV_PER_STUDENT         1.203315\n",
      "STATE_REV_PER_STUDENT       6.812407\n",
      "LOCAL_REV_PER_STUDENT       5.977430\n",
      "Name: max, dtype: float64 \n",
      "\n",
      "KENTUCKY  MAXIMUM \n",
      " YEAR                     2015.000000\n",
      "AVG_MATH_8_SCORE          282.000000\n",
      "TOT_REV_PER_STUDENT        10.994601\n",
      "FED_REV_PER_STUDENT         1.707786\n",
      "STATE_REV_PER_STUDENT       6.083258\n",
      "LOCAL_REV_PER_STUDENT       3.674865\n",
      "Name: max, dtype: float64 \n",
      "\n",
      "LOUISIANA  MAXIMUM \n",
      " YEAR                     2015.000000\n",
      "AVG_MATH_8_SCORE          273.000000\n",
      "TOT_REV_PER_STUDENT        11.755411\n",
      "FED_REV_PER_STUDENT         2.128637\n",
      "STATE_REV_PER_STUDENT       5.165473\n",
      "LOCAL_REV_PER_STUDENT       5.193740\n",
      "Name: max, dtype: float64 \n",
      "\n",
      "MAINE  MAXIMUM \n",
      " YEAR                     2015.000000\n",
      "AVG_MATH_8_SCORE          289.000000\n",
      "TOT_REV_PER_STUDENT        15.084763\n",
      "FED_REV_PER_STUDENT         1.530886\n",
      "STATE_REV_PER_STUDENT       5.850982\n",
      "LOCAL_REV_PER_STUDENT       8.230584\n",
      "Name: max, dtype: float64 \n",
      "\n",
      "MARYLAND  MAXIMUM \n",
      " YEAR                     2015.000000\n",
      "AVG_MATH_8_SCORE          288.000000\n",
      "TOT_REV_PER_STUDENT        16.475245\n",
      "FED_REV_PER_STUDENT         1.470536\n",
      "STATE_REV_PER_STUDENT       7.125531\n",
      "LOCAL_REV_PER_STUDENT       8.418426\n",
      "Name: max, dtype: float64 \n",
      "\n",
      "MASSACHUSETTS  MAXIMUM \n",
      " YEAR                     2015.000000\n",
      "AVG_MATH_8_SCORE          301.000000\n",
      "TOT_REV_PER_STUDENT        17.619011\n",
      "FED_REV_PER_STUDENT         1.255949\n",
      "STATE_REV_PER_STUDENT       7.062502\n",
      "LOCAL_REV_PER_STUDENT       9.748503\n",
      "Name: max, dtype: float64 \n",
      "\n",
      "MICHIGAN  MAXIMUM \n",
      " YEAR                     2015.000000\n",
      "AVG_MATH_8_SCORE          280.000000\n",
      "TOT_REV_PER_STUDENT        12.384854\n",
      "FED_REV_PER_STUDENT         1.605001\n",
      "STATE_REV_PER_STUDENT       6.841644\n",
      "LOCAL_REV_PER_STUDENT       4.519949\n",
      "Name: max, dtype: float64 \n",
      "\n",
      "MINNESOTA  MAXIMUM \n",
      " YEAR                     2015.000000\n",
      "AVG_MATH_8_SCORE          295.000000\n",
      "TOT_REV_PER_STUDENT        13.517429\n",
      "FED_REV_PER_STUDENT         1.003773\n",
      "STATE_REV_PER_STUDENT       8.754441\n",
      "LOCAL_REV_PER_STUDENT       4.500868\n",
      "Name: max, dtype: float64 \n",
      "\n",
      "MISSISSIPPI  MAXIMUM \n",
      " YEAR                     2015.000000\n",
      "AVG_MATH_8_SCORE          271.000000\n",
      "TOT_REV_PER_STUDENT         9.425991\n",
      "FED_REV_PER_STUDENT         2.051419\n",
      "STATE_REV_PER_STUDENT       4.771870\n",
      "LOCAL_REV_PER_STUDENT       3.274060\n",
      "Name: max, dtype: float64 \n",
      "\n",
      "MISSOURI  MAXIMUM \n",
      " YEAR                     2015.000000\n",
      "AVG_MATH_8_SCORE          286.000000\n",
      "TOT_REV_PER_STUDENT        11.556786\n",
      "FED_REV_PER_STUDENT         1.467138\n",
      "STATE_REV_PER_STUDENT       4.831295\n",
      "LOCAL_REV_PER_STUDENT       5.693545\n",
      "Name: max, dtype: float64 \n",
      "\n",
      "NEBRASKA  MAXIMUM \n",
      " YEAR                     2015.000000\n",
      "AVG_MATH_8_SCORE          286.000000\n",
      "TOT_REV_PER_STUDENT        13.444642\n",
      "FED_REV_PER_STUDENT         1.898362\n",
      "STATE_REV_PER_STUDENT       4.272330\n",
      "LOCAL_REV_PER_STUDENT       8.082544\n",
      "Name: max, dtype: float64 \n",
      "\n",
      "NEW_HAMPSHIRE  MAXIMUM \n",
      " YEAR                     2015.000000\n",
      "AVG_MATH_8_SCORE          296.000000\n",
      "TOT_REV_PER_STUDENT        16.955247\n",
      "FED_REV_PER_STUDENT         0.962835\n",
      "STATE_REV_PER_STUDENT       5.528979\n",
      "LOCAL_REV_PER_STUDENT      10.569237\n",
      "Name: max, dtype: float64 \n",
      "\n",
      "NEW_JERSEY  MAXIMUM \n",
      " YEAR                     2015.000000\n",
      "AVG_MATH_8_SCORE          296.000000\n",
      "TOT_REV_PER_STUDENT        20.822189\n",
      "FED_REV_PER_STUDENT         0.946597\n",
      "STATE_REV_PER_STUDENT       8.108277\n",
      "LOCAL_REV_PER_STUDENT      11.894799\n",
      "Name: max, dtype: float64 \n",
      "\n",
      "NEW_MEXICO  MAXIMUM \n",
      " YEAR                     2015.000000\n",
      "AVG_MATH_8_SCORE          274.000000\n",
      "TOT_REV_PER_STUDENT        11.289004\n",
      "FED_REV_PER_STUDENT         1.887274\n",
      "STATE_REV_PER_STUDENT       7.820489\n",
      "LOCAL_REV_PER_STUDENT       2.067895\n",
      "Name: max, dtype: float64 \n",
      "\n",
      "NEW_YORK  MAXIMUM \n",
      " YEAR                     2015.000000\n",
      "AVG_MATH_8_SCORE          283.000000\n",
      "TOT_REV_PER_STUDENT        23.495946\n",
      "FED_REV_PER_STUDENT         1.892425\n",
      "STATE_REV_PER_STUDENT       9.551781\n",
      "LOCAL_REV_PER_STUDENT      12.885816\n",
      "Name: max, dtype: float64 \n",
      "\n",
      "NORTH_CAROLINA  MAXIMUM \n",
      " YEAR                     2015.000000\n",
      "AVG_MATH_8_SCORE          286.000000\n",
      "TOT_REV_PER_STUDENT        10.388698\n",
      "FED_REV_PER_STUDENT         1.357519\n",
      "STATE_REV_PER_STUDENT       5.547497\n",
      "LOCAL_REV_PER_STUDENT       3.912481\n",
      "Name: max, dtype: float64 \n",
      "\n",
      "NORTH_DAKOTA  MAXIMUM \n",
      " YEAR                     2015.000000\n",
      "AVG_MATH_8_SCORE          293.000000\n",
      "TOT_REV_PER_STUDENT        15.136897\n",
      "FED_REV_PER_STUDENT         1.913483\n",
      "STATE_REV_PER_STUDENT       8.677626\n",
      "LOCAL_REV_PER_STUDENT       6.126597\n",
      "Name: max, dtype: float64 \n",
      "\n",
      "OHIO  MAXIMUM \n",
      " YEAR                     2015.000000\n",
      "AVG_MATH_8_SCORE          290.000000\n",
      "TOT_REV_PER_STUDENT        14.201837\n",
      "FED_REV_PER_STUDENT         1.456229\n",
      "STATE_REV_PER_STUDENT       5.924414\n",
      "LOCAL_REV_PER_STUDENT       7.300588\n",
      "Name: max, dtype: float64 \n",
      "\n",
      "OKLAHOMA  MAXIMUM \n",
      " YEAR                     2015.000000\n",
      "AVG_MATH_8_SCORE          279.000000\n",
      "TOT_REV_PER_STUDENT         9.208596\n",
      "FED_REV_PER_STUDENT         1.453986\n",
      "STATE_REV_PER_STUDENT       4.604435\n",
      "LOCAL_REV_PER_STUDENT       3.520314\n",
      "Name: max, dtype: float64 \n",
      "\n",
      "PENNSYLVANIA  MAXIMUM \n",
      " YEAR                     2015.000000\n",
      "AVG_MATH_8_SCORE          290.000000\n",
      "TOT_REV_PER_STUDENT        17.449016\n",
      "FED_REV_PER_STUDENT         1.903487\n",
      "STATE_REV_PER_STUDENT       6.132739\n",
      "LOCAL_REV_PER_STUDENT      10.234485\n",
      "Name: max, dtype: float64 \n",
      "\n"
     ]
    },
    {
     "name": "stdout",
     "output_type": "stream",
     "text": [
      "RHODE_ISLAND  MAXIMUM \n",
      " YEAR                     2015.000000\n",
      "AVG_MATH_8_SCORE          284.000000\n",
      "TOT_REV_PER_STUDENT        16.667850\n",
      "FED_REV_PER_STUDENT         1.638813\n",
      "STATE_REV_PER_STUDENT       6.400517\n",
      "LOCAL_REV_PER_STUDENT       8.966630\n",
      "Name: max, dtype: float64 \n",
      "\n",
      "SOUTH_CAROLINA  MAXIMUM \n",
      " YEAR                     2015.000000\n",
      "AVG_MATH_8_SCORE          282.000000\n",
      "TOT_REV_PER_STUDENT        11.472908\n",
      "FED_REV_PER_STUDENT         1.432332\n",
      "STATE_REV_PER_STUDENT       5.362919\n",
      "LOCAL_REV_PER_STUDENT       5.014899\n",
      "Name: max, dtype: float64 \n",
      "\n",
      "TENNESSEE  MAXIMUM \n",
      " YEAR                     2015.000000\n",
      "AVG_MATH_8_SCORE          278.000000\n",
      "TOT_REV_PER_STUDENT         9.444256\n",
      "FED_REV_PER_STUDENT         1.273216\n",
      "STATE_REV_PER_STUDENT       4.379994\n",
      "LOCAL_REV_PER_STUDENT       3.942873\n",
      "Name: max, dtype: float64 \n",
      "\n",
      "TEXAS  MAXIMUM \n",
      " YEAR                     2015.000000\n",
      "AVG_MATH_8_SCORE          290.000000\n",
      "TOT_REV_PER_STUDENT        10.484254\n",
      "FED_REV_PER_STUDENT         1.563468\n",
      "STATE_REV_PER_STUDENT       4.063488\n",
      "LOCAL_REV_PER_STUDENT       5.429360\n",
      "Name: max, dtype: float64 \n",
      "\n",
      "UTAH  MAXIMUM \n",
      " YEAR                     2015.000000\n",
      "AVG_MATH_8_SCORE          286.000000\n",
      "TOT_REV_PER_STUDENT         7.416107\n",
      "FED_REV_PER_STUDENT         0.936382\n",
      "STATE_REV_PER_STUDENT       3.890940\n",
      "LOCAL_REV_PER_STUDENT       2.804473\n",
      "Name: max, dtype: float64 \n",
      "\n",
      "VIRGINIA  MAXIMUM \n",
      " YEAR                     2015.000000\n",
      "AVG_MATH_8_SCORE          289.000000\n",
      "TOT_REV_PER_STUDENT        12.354041\n",
      "FED_REV_PER_STUDENT         1.134685\n",
      "STATE_REV_PER_STUDENT       5.073084\n",
      "LOCAL_REV_PER_STUDENT       6.703831\n",
      "Name: max, dtype: float64 \n",
      "\n",
      "WEST_VIRGINIA  MAXIMUM \n",
      " YEAR                     2015.000000\n",
      "AVG_MATH_8_SCORE          274.000000\n",
      "TOT_REV_PER_STUDENT        12.536947\n",
      "FED_REV_PER_STUDENT         1.803853\n",
      "STATE_REV_PER_STUDENT       7.216075\n",
      "LOCAL_REV_PER_STUDENT       4.094315\n",
      "Name: max, dtype: float64 \n",
      "\n",
      "WISCONSIN  MAXIMUM \n",
      " YEAR                     2015.000000\n",
      "AVG_MATH_8_SCORE          289.000000\n",
      "TOT_REV_PER_STUDENT        13.410205\n",
      "FED_REV_PER_STUDENT         1.442534\n",
      "STATE_REV_PER_STUDENT       6.763384\n",
      "LOCAL_REV_PER_STUDENT       6.238559\n",
      "Name: max, dtype: float64 \n",
      "\n",
      "WYOMING  MAXIMUM \n",
      " YEAR                     2015.000000\n",
      "AVG_MATH_8_SCORE          288.000000\n",
      "TOT_REV_PER_STUDENT        20.723566\n",
      "FED_REV_PER_STUDENT         1.719830\n",
      "STATE_REV_PER_STUDENT      11.792149\n",
      "LOCAL_REV_PER_STUDENT       7.661423\n",
      "Name: max, dtype: float64 \n",
      "\n",
      "ILLINOIS  MAXIMUM \n",
      " YEAR                     2015.000000\n",
      "AVG_MATH_8_SCORE          285.000000\n",
      "TOT_REV_PER_STUDENT        15.720032\n",
      "FED_REV_PER_STUDENT         1.590414\n",
      "STATE_REV_PER_STUDENT       5.808155\n",
      "LOCAL_REV_PER_STUDENT       8.803926\n",
      "Name: max, dtype: float64 \n",
      "\n",
      "KANSAS  MAXIMUM \n",
      " YEAR                     2015.000000\n",
      "AVG_MATH_8_SCORE          290.000000\n",
      "TOT_REV_PER_STUDENT        12.082929\n",
      "FED_REV_PER_STUDENT         1.259185\n",
      "STATE_REV_PER_STUDENT       8.001486\n",
      "LOCAL_REV_PER_STUDENT       4.134568\n",
      "Name: max, dtype: float64 \n",
      "\n",
      "MONTANA  MAXIMUM \n",
      " YEAR                     2015.000000\n",
      "AVG_MATH_8_SCORE          293.000000\n",
      "TOT_REV_PER_STUDENT        12.416401\n",
      "FED_REV_PER_STUDENT         1.858229\n",
      "STATE_REV_PER_STUDENT       5.856550\n",
      "LOCAL_REV_PER_STUDENT       5.080485\n",
      "Name: max, dtype: float64 \n",
      "\n",
      "NEVADA  MAXIMUM \n",
      " YEAR                     2015.000000\n",
      "AVG_MATH_8_SCORE          278.000000\n",
      "TOT_REV_PER_STUDENT        10.355827\n",
      "FED_REV_PER_STUDENT         1.016759\n",
      "STATE_REV_PER_STUDENT       5.870476\n",
      "LOCAL_REV_PER_STUDENT       4.067060\n",
      "Name: max, dtype: float64 \n",
      "\n",
      "OREGON  MAXIMUM \n",
      " YEAR                     2015.000000\n",
      "AVG_MATH_8_SCORE          285.000000\n",
      "TOT_REV_PER_STUDENT        12.338001\n",
      "FED_REV_PER_STUDENT         1.493532\n",
      "STATE_REV_PER_STUDENT       6.380910\n",
      "LOCAL_REV_PER_STUDENT       4.955878\n",
      "Name: max, dtype: float64 \n",
      "\n",
      "VERMONT  MAXIMUM \n",
      " YEAR                     2015.000000\n",
      "AVG_MATH_8_SCORE          295.000000\n",
      "TOT_REV_PER_STUDENT        22.725457\n",
      "FED_REV_PER_STUDENT         1.293235\n",
      "STATE_REV_PER_STUDENT      17.601803\n",
      "LOCAL_REV_PER_STUDENT       5.974501\n",
      "Name: max, dtype: float64 \n",
      "\n",
      "ALASKA  MAXIMUM \n",
      " YEAR                     2015.000000\n",
      "AVG_MATH_8_SCORE          283.000000\n",
      "TOT_REV_PER_STUDENT        22.049005\n",
      "FED_REV_PER_STUDENT         3.203184\n",
      "STATE_REV_PER_STUDENT      15.297410\n",
      "LOCAL_REV_PER_STUDENT       4.154080\n",
      "Name: max, dtype: float64 \n",
      "\n",
      "SOUTH_DAKOTA  MAXIMUM \n",
      " YEAR                     2015.000000\n",
      "AVG_MATH_8_SCORE          291.000000\n",
      "TOT_REV_PER_STUDENT        10.540912\n",
      "FED_REV_PER_STUDENT         2.049705\n",
      "STATE_REV_PER_STUDENT       3.336739\n",
      "LOCAL_REV_PER_STUDENT       5.829903\n",
      "Name: max, dtype: float64 \n",
      "\n",
      "WASHINGTON  MAXIMUM \n",
      " YEAR                     2015.000000\n",
      "AVG_MATH_8_SCORE          290.000000\n",
      "TOT_REV_PER_STUDENT        12.611834\n",
      "FED_REV_PER_STUDENT         1.338122\n",
      "STATE_REV_PER_STUDENT       7.629791\n",
      "LOCAL_REV_PER_STUDENT       4.028599\n",
      "Name: max, dtype: float64 \n",
      "\n"
     ]
    }
   ],
   "source": [
    "stateNames=dNew[\"STATE\"].unique()\n",
    "for i in stateNames:\n",
    "    print(i,\" MAXIMUM \\n\",dNew[dNew[\"STATE\"]==i].describe().loc['max'],\"\\n\")\n",
    "\n",
    "#dNew[dNew_.loc['ALABAMA']]"
   ]
  },
  {
   "cell_type": "markdown",
   "metadata": {},
   "source": [
    "<h2> Feature Selection </h2>\n",
    "\n",
    "After exploring the data, you now have to choose features that you would use to predict the performance of the students on a chosen test (your chosen predictor). By the way, you can also create your own features. For example, perhaps you figured that maybe a state's expenditure per student may affect their overall academic performance so you create a expenditure_per_student feature.\n",
    "\n",
    "Use this space to modify or create features"
   ]
  },
  {
   "cell_type": "code",
   "execution_count": 108,
   "metadata": {},
   "outputs": [
    {
     "data": {
      "text/html": [
       "<div>\n",
       "<style scoped>\n",
       "    .dataframe tbody tr th:only-of-type {\n",
       "        vertical-align: middle;\n",
       "    }\n",
       "\n",
       "    .dataframe tbody tr th {\n",
       "        vertical-align: top;\n",
       "    }\n",
       "\n",
       "    .dataframe thead th {\n",
       "        text-align: right;\n",
       "    }\n",
       "</style>\n",
       "<table border=\"1\" class=\"dataframe\">\n",
       "  <thead>\n",
       "    <tr style=\"text-align: right;\">\n",
       "      <th></th>\n",
       "      <th>STATE</th>\n",
       "      <th>YEAR</th>\n",
       "      <th>AVG_MATH_8_SCORE</th>\n",
       "      <th>TOT_REV_PER_STUDENT</th>\n",
       "      <th>FED_REV_PER_STUDENT</th>\n",
       "      <th>STATE_REV_PER_STUDENT</th>\n",
       "      <th>LOCAL_REV_PER_STUDENT</th>\n",
       "    </tr>\n",
       "  </thead>\n",
       "  <tbody>\n",
       "    <tr>\n",
       "      <th>0</th>\n",
       "      <td>ALABAMA</td>\n",
       "      <td>1992</td>\n",
       "      <td>252.0</td>\n",
       "      <td>3.661510</td>\n",
       "      <td>0.415750</td>\n",
       "      <td>2.267565</td>\n",
       "      <td>0.978194</td>\n",
       "    </tr>\n",
       "    <tr>\n",
       "      <th>2</th>\n",
       "      <td>ARIZONA</td>\n",
       "      <td>1992</td>\n",
       "      <td>265.0</td>\n",
       "      <td>4.837699</td>\n",
       "      <td>0.442314</td>\n",
       "      <td>2.033945</td>\n",
       "      <td>2.361441</td>\n",
       "    </tr>\n",
       "    <tr>\n",
       "      <th>3</th>\n",
       "      <td>ARKANSAS</td>\n",
       "      <td>1992</td>\n",
       "      <td>256.0</td>\n",
       "      <td>3.877685</td>\n",
       "      <td>0.404473</td>\n",
       "      <td>2.171703</td>\n",
       "      <td>1.301509</td>\n",
       "    </tr>\n",
       "    <tr>\n",
       "      <th>4</th>\n",
       "      <td>CALIFORNIA</td>\n",
       "      <td>1992</td>\n",
       "      <td>261.0</td>\n",
       "      <td>4.997299</td>\n",
       "      <td>0.394392</td>\n",
       "      <td>3.148812</td>\n",
       "      <td>1.454095</td>\n",
       "    </tr>\n",
       "    <tr>\n",
       "      <th>5</th>\n",
       "      <td>COLORADO</td>\n",
       "      <td>1992</td>\n",
       "      <td>272.0</td>\n",
       "      <td>5.199137</td>\n",
       "      <td>0.266477</td>\n",
       "      <td>2.135017</td>\n",
       "      <td>2.797643</td>\n",
       "    </tr>\n",
       "    <tr>\n",
       "      <th>...</th>\n",
       "      <td>...</td>\n",
       "      <td>...</td>\n",
       "      <td>...</td>\n",
       "      <td>...</td>\n",
       "      <td>...</td>\n",
       "      <td>...</td>\n",
       "      <td>...</td>\n",
       "    </tr>\n",
       "    <tr>\n",
       "      <th>1219</th>\n",
       "      <td>VIRGINIA</td>\n",
       "      <td>2015</td>\n",
       "      <td>288.0</td>\n",
       "      <td>12.354041</td>\n",
       "      <td>0.788573</td>\n",
       "      <td>4.861637</td>\n",
       "      <td>6.703831</td>\n",
       "    </tr>\n",
       "    <tr>\n",
       "      <th>1220</th>\n",
       "      <td>WASHINGTON</td>\n",
       "      <td>2015</td>\n",
       "      <td>287.0</td>\n",
       "      <td>12.611834</td>\n",
       "      <td>0.953444</td>\n",
       "      <td>7.629791</td>\n",
       "      <td>4.028599</td>\n",
       "    </tr>\n",
       "    <tr>\n",
       "      <th>1221</th>\n",
       "      <td>WEST_VIRGINIA</td>\n",
       "      <td>2015</td>\n",
       "      <td>271.0</td>\n",
       "      <td>12.536947</td>\n",
       "      <td>1.308187</td>\n",
       "      <td>7.134445</td>\n",
       "      <td>4.094315</td>\n",
       "    </tr>\n",
       "    <tr>\n",
       "      <th>1222</th>\n",
       "      <td>WISCONSIN</td>\n",
       "      <td>2015</td>\n",
       "      <td>289.0</td>\n",
       "      <td>13.410205</td>\n",
       "      <td>0.938448</td>\n",
       "      <td>6.763384</td>\n",
       "      <td>5.708373</td>\n",
       "    </tr>\n",
       "    <tr>\n",
       "      <th>1223</th>\n",
       "      <td>WYOMING</td>\n",
       "      <td>2015</td>\n",
       "      <td>287.0</td>\n",
       "      <td>20.723566</td>\n",
       "      <td>1.269994</td>\n",
       "      <td>11.792149</td>\n",
       "      <td>7.661423</td>\n",
       "    </tr>\n",
       "  </tbody>\n",
       "</table>\n",
       "<p>439 rows × 7 columns</p>\n",
       "</div>"
      ],
      "text/plain": [
       "              STATE  YEAR  AVG_MATH_8_SCORE  TOT_REV_PER_STUDENT  \\\n",
       "0           ALABAMA  1992             252.0             3.661510   \n",
       "2           ARIZONA  1992             265.0             4.837699   \n",
       "3          ARKANSAS  1992             256.0             3.877685   \n",
       "4        CALIFORNIA  1992             261.0             4.997299   \n",
       "5          COLORADO  1992             272.0             5.199137   \n",
       "...             ...   ...               ...                  ...   \n",
       "1219       VIRGINIA  2015             288.0            12.354041   \n",
       "1220     WASHINGTON  2015             287.0            12.611834   \n",
       "1221  WEST_VIRGINIA  2015             271.0            12.536947   \n",
       "1222      WISCONSIN  2015             289.0            13.410205   \n",
       "1223        WYOMING  2015             287.0            20.723566   \n",
       "\n",
       "      FED_REV_PER_STUDENT  STATE_REV_PER_STUDENT  LOCAL_REV_PER_STUDENT  \n",
       "0                0.415750               2.267565               0.978194  \n",
       "2                0.442314               2.033945               2.361441  \n",
       "3                0.404473               2.171703               1.301509  \n",
       "4                0.394392               3.148812               1.454095  \n",
       "5                0.266477               2.135017               2.797643  \n",
       "...                   ...                    ...                    ...  \n",
       "1219             0.788573               4.861637               6.703831  \n",
       "1220             0.953444               7.629791               4.028599  \n",
       "1221             1.308187               7.134445               4.094315  \n",
       "1222             0.938448               6.763384               5.708373  \n",
       "1223             1.269994              11.792149               7.661423  \n",
       "\n",
       "[439 rows x 7 columns]"
      ]
     },
     "execution_count": 108,
     "metadata": {},
     "output_type": "execute_result"
    }
   ],
   "source": [
    "#oops already did this!\n",
    "\n",
    "# I did revenue_per_student on the total, federal, state, and local scale\n",
    "dNew"
   ]
  },
  {
   "cell_type": "markdown",
   "metadata": {},
   "source": [
    "Final feature list: Total revenue per student, federal revenue per student, state revenue per student, local revenue per student"
   ]
  },
  {
   "cell_type": "markdown",
   "metadata": {},
   "source": [
    "Feature selection justification: **I believe the investment into education is really important to create the resources for students to thrive. However, there needs to be a focus on the capital and resources a state has to provide these resources. Therefore, seeing the revenue per students at the federal, state, local, and total scope will allow us to see which states are most resourced per student and have the highest potential to invest in students.**"
   ]
  },
  {
   "cell_type": "markdown",
   "metadata": {},
   "source": [
    "<h2>Visualization</h2>\n",
    "\n",
    "Use any graph you wish to see the relationship of your chosen predictor with any features you chose\n",
    "\n",
    "**Visualization 1**"
   ]
  },
  {
   "cell_type": "code",
   "execution_count": 129,
   "metadata": {},
   "outputs": [
    {
     "data": {
      "text/plain": [
       "Text(0.5, 1.0, '8th grade math score over total revenue per student')"
      ]
     },
     "execution_count": 129,
     "metadata": {},
     "output_type": "execute_result"
    },
    {
     "data": {
      "image/png": "[encoded data removed]",
      "text/plain": [
       "<Figure size 432x288 with 1 Axes>"
      ]
     },
     "metadata": {
      "needs_background": "light"
     },
     "output_type": "display_data"
    }
   ],
   "source": [
    "dNew.plot.scatter(x='TOT_REV_PER_STUDENT',y='AVG_MATH_8_SCORE')\n",
    "#dNew.set_index('TOT_REV_PER_STUDENT').groupby('STATE').AVG_MATH_8_SCORE.plot()\n",
    "plt.ylabel('SCORE')\n",
    "plt.title('8th grade math score over total revenue per student')\n",
    "\n"
   ]
  },
  {
   "cell_type": "markdown",
   "metadata": {},
   "source": [
    "**<Measuring total revenue per student against 8th grade math score>**"
   ]
  },
  {
   "cell_type": "markdown",
   "metadata": {},
   "source": [
    "**Visualization 2**"
   ]
  },
  {
   "cell_type": "code",
   "execution_count": 128,
   "metadata": {
    "scrolled": true
   },
   "outputs": [
    {
     "data": {
      "text/plain": [
       "Text(0.5, 1.0, '8th grade math score over total revenue per student')"
      ]
     },
     "execution_count": 128,
     "metadata": {},
     "output_type": "execute_result"
    },
    {
     "data": {
      "image/png": "[encoded data removed]",
      "text/plain": [
       "<Figure size 432x288 with 1 Axes>"
      ]
     },
     "metadata": {
      "needs_background": "light"
     },
     "output_type": "display_data"
    }
   ],
   "source": [
    "dNew.set_index('LOCAL_REV_PER_STUDENT').groupby('STATE').AVG_MATH_8_SCORE.plot()\n",
    "plt.ylabel('SCORE')\n",
    "plt.title('8th grade math score over total revenue per student')"
   ]
  },
  {
   "cell_type": "markdown",
   "metadata": {},
   "source": [
    "**<Local revenue vs. score per state>**"
   ]
  },
  {
   "cell_type": "markdown",
   "metadata": {},
   "source": [
    "<h2> Data Creation </h2>\n",
    "\n",
    "_Use this space to create train/test data_"
   ]
  },
  {
   "cell_type": "code",
   "execution_count": 131,
   "metadata": {},
   "outputs": [],
   "source": [
    "from sklearn.model_selection import train_test_split"
   ]
  },
  {
   "cell_type": "code",
   "execution_count": 132,
   "metadata": {},
   "outputs": [],
   "source": [
    "X = dNew[['FED_REV_PER_STUDENT','STATE_REV_PER_STUDENT','LOCAL_REV_PER_STUDENT']]\n",
    "y = dNew.loc[X.index][\"AVG_MATH_8_SCORE\"]"
   ]
  },
  {
   "cell_type": "code",
   "execution_count": 133,
   "metadata": {},
   "outputs": [],
   "source": [
    "X_train, X_test, y_train, y_test = train_test_split(\n",
    "     X, y, test_size=.3, random_state=0)"
   ]
  },
  {
   "cell_type": "markdown",
   "metadata": {},
   "source": [
    "<h2> Prediction </h2>"
   ]
  },
  {
   "cell_type": "markdown",
   "metadata": {},
   "source": [
    "ML Models Resource: https://medium.com/@vijaya.beeravalli/comparison-of-machine-learning-classification-models-for-credit-card-default-data-c3cf805c9a5a"
   ]
  },
  {
   "cell_type": "markdown",
   "metadata": {},
   "source": [
    "Chosen ML task: **<REGRESSION>**"
   ]
  },
  {
   "cell_type": "code",
   "execution_count": 134,
   "metadata": {},
   "outputs": [],
   "source": [
    "# import your sklearn class here\n",
    "from sklearn.linear_model import LinearRegression"
   ]
  },
  {
   "cell_type": "code",
   "execution_count": 147,
   "metadata": {},
   "outputs": [],
   "source": [
    "# create your model here\n",
    "model = LinearRegression()"
   ]
  },
  {
   "cell_type": "code",
   "execution_count": 150,
   "metadata": {},
   "outputs": [
    {
     "name": "stdout",
     "output_type": "stream",
     "text": [
      "268.1415052385799\n",
      "[-3.52886872  1.72467201  1.16118014]\n",
      "R^2:  0.30096529793463167\n",
      "mean error:  0.682374197199437\n",
      "mean abs error:  7.216338804657972\n",
      "root mean error sq:  9.64729330805007\n"
     ]
    }
   ],
   "source": [
    "model.fit(X_train, y_train)\n",
    "print(model.intercept_)\n",
    "print(model.coef_)\n",
    "print(\"R^2: \",model.score(X_test, y_test))\n",
    "print(\"mean error: \",np.mean(model.predict(X_test)-y_test))\n",
    "print(\"mean abs error: \",np.mean(np.abs(model.predict(X_test)-y_test)))\n",
    "print(\"root mean error sq: \",np.mean((model.predict(X_test)-y_test)**2)**0.5)"
   ]
  },
  {
   "cell_type": "code",
   "execution_count": 141,
   "metadata": {},
   "outputs": [],
   "source": [
    "y_pred = model.predict(X_test)"
   ]
  },
  {
   "cell_type": "code",
   "execution_count": 139,
   "metadata": {},
   "outputs": [],
   "source": [
    "# FOR CLASSIFICATION ONLY:\n",
    "#from sklearn.metrics import plot_confusion_matrix\n",
    "#\n",
    "#plot_confusion_matrix(model, X_test, y_test,\n",
    "#                         cmap=plt.cm.Blues)"
   ]
  },
  {
   "cell_type": "code",
   "execution_count": 151,
   "metadata": {},
   "outputs": [
    {
     "name": "stderr",
     "output_type": "stream",
     "text": [
      "/Users/andrenandi/Desktop/mdst/mdst_tutorials_F21/env/lib/python3.9/site-packages/sklearn/base.py:441: UserWarning: X does not have valid feature names, but LinearRegression was fitted with feature names\n",
      "  warnings.warn(\n"
     ]
    },
    {
     "data": {
      "text/plain": [
       "Text(0, 0.5, 'Math 8 score')"
      ]
     },
     "execution_count": 151,
     "metadata": {},
     "output_type": "execute_result"
    },
    {
     "data": {
      "image/png": "[encoded data removed]",
      "text/plain": [
       "<Figure size 864x432 with 1 Axes>"
      ]
     },
     "metadata": {
      "needs_background": "light"
     },
     "output_type": "display_data"
    }
   ],
   "source": [
    "# FOR REGRESSION ONLY: (pick a single column to visualize results)\n",
    "\n",
    "# Results from this graph _should not_ be used as a part of your results -- it is just here to help with intuition. \n",
    "# Instead, look at the error values and individual intercepts.\n",
    "\n",
    "\n",
    "col_name = \"LOCAL_REV_PER_STUDENT\"\n",
    "col_index = X_train.columns.get_loc(col_name)\n",
    "\n",
    "f = plt.figure(figsize=(12,6))\n",
    "plt.scatter(X_train[col_name], y_train, color = \"red\")\n",
    "plt.scatter(X_train[col_name], model.predict(X_train), color = \"green\")\n",
    "plt.scatter(X_test[col_name], model.predict(X_test), color = \"blue\")\n",
    "\n",
    "new_x = np.linspace(X_train[col_name].min(),X_train[col_name].max(),200)\n",
    "intercept = model.predict([X_train.sort_values(col_name).iloc[0]]) - X_train[col_name].min()*model.coef_[col_index]\n",
    "plt.plot(new_x, intercept+new_x*model.coef_[col_index])\n",
    "\n",
    "plt.legend(['controlled model','true training','predicted training','predicted testing'])\n",
    "plt.xlabel(col_name)\n",
    "plt.ylabel(\"Math 8 score\")"
   ]
  },
  {
   "cell_type": "markdown",
   "metadata": {},
   "source": [
    "<h2> Summary </h2>"
   ]
  },
  {
   "cell_type": "markdown",
   "metadata": {},
   "source": [
    "**<\n",
    "I believe this work shows a clear correlation bewteen revenue per student and mean 8th grade math test scores. Working our way from the top, we first come across a chart that measures total revenue per student against 8th grade math score in a scatter plot. Despite the spread of data being large, there is a clear upward slope in the points, with scores increasing with total revenue per student. The graph below, which measure local revenue per student against the score, shows similar trends  per state. While there are some outliers, most states have an upward sloping line and show a similar trend of increasing scores with increased local revenue per student. However, some concerns arise. Only 9 years of data were available and the dataset decreased drastically in size since there were many rows without 8th grade math data and revenue data. This means we trained our ML model on a very incomplete dataset. However, what is slightly reassuring is that we have almost frequent data for the last 20 year since the years we have data for are [1992 2000 2003 2005 2007 2009 2011 2013 2015]. \n",
    "\n",
    "Looking at the ML regression model, we had the following error calculations:\n",
    "R^2:  0.30096529793463167\n",
    "mean error:  0.682374197199437\n",
    "mean abs error:  7.216338804657972\n",
    "root mean error sq:  9.64729330805007\n",
    "\n",
    "This R^2 is quite low, meaning we only see about 30% of the math 8 scores can be explained by the revenue per student variables. We have a standard deviation of residuals of 9.65, which is quite significant given the range of apporximately 60 for the data. The low mean error shows that the linear regression quite accurately minimized the sum of the error (with outliers on both sides of the linear regression), but the mean abs error reveals the while the sum of error was minimized, the individual residuals were significant and far from the linear regression line.\n",
    "\n",
    "While the linear regression is quite inaccurate, the evidence above shows how revenue data is still an important factor, but not the sole factor when it comes to predicted 8th grade math test scores.\n",
    "\\>**"
   ]
  }
 ],
 "metadata": {
  "kernelspec": {
   "display_name": "Python 3 (ipykernel)",
   "language": "python",
   "name": "python3"
  },
  "language_info": {
   "codemirror_mode": {
    "name": "ipython",
    "version": 3
   },
   "file_extension": ".py",
   "mimetype": "text/x-python",
   "name": "python",
   "nbconvert_exporter": "python",
   "pygments_lexer": "ipython3",
   "version": "3.9.7"
  }
 },
 "nbformat": 4,
 "nbformat_minor": 4
}
